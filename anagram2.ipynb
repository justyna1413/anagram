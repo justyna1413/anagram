{
 "cells": [
  {
   "cell_type": "code",
   "execution_count": 2,
   "metadata": {},
   "outputs": [],
   "source": [
    "def are_anagrams(s1, s2, s3):\n",
    "    # Python rozróżnia wielkośc liter w celu wyznanczenia anagramu z pominieciem  wielkości liter, konieczne jest zmniejszenie\n",
    "    #(alternatywnie zwiększenie liter)\n",
    "    s1,s2,s3=s1.lower(),s2.lower(),s3.lower()\n",
    "    #  konwercja stringów na listy, które będzie można  następnie posortować w kolejności alfabetycznej, tworząc nowe listy, które\n",
    "    # w przypadku anagramów są  idenyczne \n",
    "    s1, s2, s3=list(s1),list(s2),list(s3)\n",
    "    s1.sort(),s2.sort(), s3.sort()\n",
    "    # w treści zadania , podano  max liczbę znaków  5 - warunek wprowadzenia max 5 literowego wyrazu\n",
    "    if len(s1)<=5 and len(s2)<=5 and len(s3)<=5:\n",
    "        if s1==s2 and s2==s3:\n",
    "            wynik=True\n",
    "        else:\n",
    "            wynik=False\n",
    "        return wynik\n",
    "    else: \n",
    "        \n",
    "        print(\"Podane wyrazy sa dłuższe niz 5 liter \")\n",
    "       \n",
    "\n"
   ]
  },
  {
   "cell_type": "code",
   "execution_count": null,
   "metadata": {},
   "outputs": [],
   "source": []
  },
  {
   "cell_type": "code",
   "execution_count": null,
   "metadata": {},
   "outputs": [],
   "source": []
  },
  {
   "cell_type": "code",
   "execution_count": null,
   "metadata": {},
   "outputs": [],
   "source": []
  },
  {
   "cell_type": "code",
   "execution_count": null,
   "metadata": {},
   "outputs": [],
   "source": []
  },
  {
   "cell_type": "code",
   "execution_count": null,
   "metadata": {},
   "outputs": [],
   "source": []
  },
  {
   "cell_type": "code",
   "execution_count": null,
   "metadata": {},
   "outputs": [],
   "source": []
  },
  {
   "cell_type": "code",
   "execution_count": null,
   "metadata": {},
   "outputs": [],
   "source": []
  },
  {
   "cell_type": "code",
   "execution_count": null,
   "metadata": {},
   "outputs": [],
   "source": []
  }
 ],
 "metadata": {
  "kernelspec": {
   "display_name": "Python 3",
   "language": "python",
   "name": "python3"
  },
  "language_info": {
   "codemirror_mode": {
    "name": "ipython",
    "version": 3
   },
   "file_extension": ".py",
   "mimetype": "text/x-python",
   "name": "python",
   "nbconvert_exporter": "python",
   "pygments_lexer": "ipython3",
   "version": "3.8.5"
  }
 },
 "nbformat": 4,
 "nbformat_minor": 4
}
